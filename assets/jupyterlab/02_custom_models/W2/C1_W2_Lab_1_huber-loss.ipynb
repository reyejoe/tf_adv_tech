{
 "cells": [
  {
   "cell_type": "code",
   "execution_count": 1,
   "metadata": {
    "id": "e0a3576e-3ff1-4027-8661-70f74407284d"
   },
   "outputs": [],
   "source": [
    "try:\n",
    "  # %tensorflow_version only exists in Colab.\n",
    "  %tensorflow_version 2.x\n",
    "except Exception:\n",
    "  pass\n",
    "\n",
    "import tensorflow as tf\n",
    "import numpy as np\n",
    "import pandas as pd\n",
    "from tensorflow import keras"
   ]
  },
  {
   "cell_type": "code",
   "execution_count": 2,
   "metadata": {
    "id": "c50b698d-81ea-4c68-a215-b5fb1a8d90ad"
   },
   "outputs": [],
   "source": [
    "# inputs\n",
    "xs = np.array([-1.0,  0.0, 1.0, 2.0, 3.0, 4.0], dtype=float)\n",
    "\n",
    "# labels\n",
    "ys = np.array([-3.0, -1.0, 1.0, 3.0, 5.0, 7.0], dtype=float)"
   ]
  },
  {
   "cell_type": "code",
   "execution_count": 3,
   "metadata": {
    "id": "ade46ac9-25c0-443a-91bb-aecd22d03358"
   },
   "outputs": [],
   "source": [
    "df_in_lab = pd.DataFrame({'xs':xs, 'ys':ys})"
   ]
  },
  {
   "cell_type": "code",
   "execution_count": 9,
   "metadata": {
    "id": "2aba1305-66e3-4b74-b030-6b7d6fc2c8a6"
   },
   "outputs": [
    {
     "data": {
      "text/plain": [
       "<matplotlib.axes._subplots.AxesSubplot at 0x7f19206084d0>"
      ]
     },
     "execution_count": 9,
     "metadata": {},
     "output_type": "execute_result"
    },
    {
     "data": {
      "image/png": "[encoded data removed]",
      "text/plain": [
       "<Figure size 432x288 with 1 Axes>"
      ]
     },
     "metadata": {
      "needs_background": "light"
     },
     "output_type": "display_data"
    }
   ],
   "source": [
    "df_in_lab.plot(x='xs', y='ys')"
   ]
  },
  {
   "cell_type": "code",
   "execution_count": 5,
   "metadata": {
    "id": "ad2a9d57-eb43-4b66-b6f3-117b8bb72051"
   },
   "outputs": [
    {
     "name": "stdout",
     "output_type": "stream",
     "text": [
      "[[18.977877]]\n"
     ]
    }
   ],
   "source": [
    "model = tf.keras.Sequential([keras.layers.Dense(units=1, input_shape=[1])])\n",
    "model.compile(optimizer='sgd', loss='mean_squared_error')\n",
    "model.fit(xs, ys, epochs=500,verbose=0)\n",
    "\n",
    "print(model.predict([10.0]))"
   ]
  },
  {
   "cell_type": "code",
   "execution_count": 6,
   "metadata": {
    "id": "d6f7a900-0012-4c0b-9b46-9ddbb05fc61c"
   },
   "outputs": [],
   "source": [
    "def my_huber_loss(y_true, y_pred):\n",
    "    threshold = 1\n",
    "    error = y_true - y_pred\n",
    "    is_small_error = tf.abs(error) <= threshold\n",
    "    small_error_loss = tf.square(error) / 2\n",
    "    big_error_loss = threshold * (tf.abs(error) - (0.5 * threshold))\n",
    "    return tf.where(is_small_error, small_error_loss, big_error_loss)"
   ]
  },
  {
   "cell_type": "code",
   "execution_count": 7,
   "metadata": {
    "id": "4fde6a56-bf11-4925-a4d6-13e47268aee3"
   },
   "outputs": [
    {
     "name": "stdout",
     "output_type": "stream",
     "text": [
      "[[18.388885]]\n"
     ]
    }
   ],
   "source": [
    "model = tf.keras.Sequential([keras.layers.Dense(units=1, input_shape=[1])])\n",
    "model.compile(optimizer='sgd', loss=my_huber_loss)\n",
    "model.fit(xs, ys, epochs=500,verbose=0)\n",
    "print(model.predict([10.0]))"
   ]
  },
  {
   "cell_type": "code",
   "execution_count": 11,
   "metadata": {
    "id": "de31c6e9-9be7-4c83-94a1-01496a6ca209"
   },
   "outputs": [],
   "source": [
    "from tensorflow.keras.losses import mean_squared_error"
   ]
  },
  {
   "cell_type": "code",
   "execution_count": 15,
   "metadata": {
    "id": "890625a4-4c66-444c-b18c-309512eaf511"
   },
   "outputs": [
    {
     "name": "stdout",
     "output_type": "stream",
     "text": [
      "Help on function mean_squared_error in module tensorflow.python.keras.losses:\n",
      "\n",
      "mean_squared_error(y_true, y_pred)\n",
      "    Computes the mean squared error between labels and predictions.\n",
      "    \n",
      "    After computing the squared distance between the inputs, the mean value over\n",
      "    the last dimension is returned.\n",
      "    \n",
      "    `loss = mean(square(y_true - y_pred), axis=-1)`\n",
      "    \n",
      "    Standalone usage:\n",
      "    \n",
      "    >>> y_true = np.random.randint(0, 2, size=(2, 3))\n",
      "    >>> y_pred = np.random.random(size=(2, 3))\n",
      "    >>> loss = tf.keras.losses.mean_squared_error(y_true, y_pred)\n",
      "    >>> assert loss.shape == (2,)\n",
      "    >>> assert np.array_equal(\n",
      "    ...     loss.numpy(), np.mean(np.square(y_true - y_pred), axis=-1))\n",
      "    \n",
      "    Args:\n",
      "      y_true: Ground truth values. shape = `[batch_size, d0, .. dN]`.\n",
      "      y_pred: The predicted values. shape = `[batch_size, d0, .. dN]`.\n",
      "    \n",
      "    Returns:\n",
      "      Mean squared error values. shape = `[batch_size, d0, .. dN-1]`.\n",
      "\n"
     ]
    }
   ],
   "source": [
    "help(mean_squared_error)"
   ]
  }
 ],
 "metadata": {
  "kernelspec": {
   "display_name": "Python 3.7",
   "language": "python",
   "name": "python3"
  },
  "language_info": {
   "codemirror_mode": {
    "name": "ipython",
    "version": 3
   },
   "file_extension": ".py",
   "mimetype": "text/x-python",
   "name": "python",
   "nbconvert_exporter": "python",
   "pygments_lexer": "ipython3",
   "version": "3.7.11"
  }
 },
 "nbformat": 4,
 "nbformat_minor": 4
}
