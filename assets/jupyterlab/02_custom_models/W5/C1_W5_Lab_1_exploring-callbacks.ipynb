{
 "cells": [
  {
   "cell_type": "markdown",
   "metadata": {
    "colab_type": "text",
    "id": "view-in-github"
   },
   "source": [
    "<a href=\"https://colab.research.google.com/github/https-deeplearning-ai/tensorflow-3-public/blob/main/Course%201%20-%20Custom%20Models%2C%20Layers%20and%20Loss%20Functions/Week%205%20-%20Callbacks/C1_W5_Lab_1_exploring-callbacks.ipynb\" target=\"_parent\"><img src=\"https://colab.research.google.com/assets/colab-badge.svg\" alt=\"Open In Colab\"/></a>"
   ]
  },
  {
   "cell_type": "markdown",
   "metadata": {
    "colab_type": "text",
    "id": "0c_TYhQOUe1j"
   },
   "source": [
    "# Ungraded Lab: Introduction to Keras callbacks\n",
    "\n",
    "In Keras, `Callback` is a Python class meant to be subclassed to provide specific functionality, with a set of methods called at various stages of training (including batch/epoch start and ends), testing, and predicting. Callbacks are useful to get a view on internal states and statistics of the model during training. The methods of the callbacks can  be called at different stages of training/evaluating/inference. Keras has available [callbacks](https://keras.io/api/callbacks/) and we'll show how you can use it in the following sections. Please click the **Open in Colab** badge above to complete this exercise in Colab. This will allow you to take advantage of the free GPU runtime (for faster training) and compatibility with all the packages needed in this notebook."
   ]
  },
  {
   "cell_type": "markdown",
   "metadata": {
    "colab_type": "text",
    "id": "Uyl69EyRQx-f"
   },
   "source": [
    "## Model methods that take callbacks\n",
    "Users can supply a list of callbacks to the following `tf.keras.Model` methods:\n",
    "* [`fit()`](https://www.tensorflow.org/versions/r2.0/api_docs/python/tf/keras/Model#fit), [`fit_generator()`](https://www.tensorflow.org/versions/r2.0/api_docs/python/tf/keras/Model#fit_generator)\n",
    "Trains the model for a fixed number of epochs (iterations over a dataset, or data yielded batch-by-batch by a Python generator).\n",
    "* [`evaluate()`](https://www.tensorflow.org/versions/r2.0/api_docs/python/tf/keras/Model#evaluate), [`evaluate_generator()`](https://www.tensorflow.org/versions/r2.0/api_docs/python/tf/keras/Model#evaluate_generator)\n",
    "Evaluates the model for given data or data generator. Outputs the loss and metric values from the evaluation.\n",
    "* [`predict()`](https://www.tensorflow.org/versions/r2.0/api_docs/python/tf/keras/Model#predict), [`predict_generator()`](https://www.tensorflow.org/versions/r2.0/api_docs/python/tf/keras/Model#predict_generator)\n",
    "Generates output predictions for the input data or data generator."
   ]
  },
  {
   "cell_type": "markdown",
   "metadata": {
    "id": "693adf5a-a23a-4a24-8916-062d3dd4978e"
   },
   "source": [
    "## Imports"
   ]
  },
  {
   "cell_type": "code",
   "execution_count": 1,
   "metadata": {
    "colab": {},
    "colab_type": "code",
    "id": "AlT1Kh3uA9lZ"
   },
   "outputs": [
    {
     "name": "stdout",
     "output_type": "stream",
     "text": [
      "Version:  2.4.4\n"
     ]
    }
   ],
   "source": [
    "from __future__ import absolute_import, division, print_function, unicode_literals\n",
    "\n",
    "try:\n",
    "    # %tensorflow_version only exists in Colab.\n",
    "    %tensorflow_version 2.x\n",
    "except Exception:\n",
    "    pass\n",
    "\n",
    "import tensorflow as tf\n",
    "import tensorflow_datasets as tfds\n",
    "import matplotlib.pyplot as plt\n",
    "import io\n",
    "from PIL import Image\n",
    "\n",
    "from tensorflow.keras.callbacks import TensorBoard, EarlyStopping, LearningRateScheduler, ModelCheckpoint, CSVLogger, ReduceLROnPlateau\n",
    "%load_ext tensorboard\n",
    "\n",
    "import os\n",
    "import matplotlib.pylab as plt\n",
    "import numpy as np\n",
    "import math\n",
    "import datetime\n",
    "import pandas as pd\n",
    "\n",
    "print(\"Version: \", tf.__version__)\n",
    "tf.get_logger().setLevel('INFO')"
   ]
  },
  {
   "cell_type": "markdown",
   "metadata": {
    "colab_type": "text",
    "id": "HnSljqtsXKfb"
   },
   "source": [
    "# Examples of Keras callback applications\n",
    "The following section will guide you through creating simple [Callback](https://keras.io/api/callbacks/) applications."
   ]
  },
  {
   "cell_type": "code",
   "execution_count": 2,
   "metadata": {
    "colab": {},
    "colab_type": "code",
    "id": "spskRuxvCYQE"
   },
   "outputs": [],
   "source": [
    "# Download and prepare the horses or humans dataset\n",
    "\n",
    "# horses_or_humans 3.0.0 has already been downloaded for you\n",
    "path = \"./tensorflow_datasets\"\n",
    "splits, info = tfds.load('horses_or_humans', data_dir=path, as_supervised=True, with_info=True, split=['train[:80%]', 'train[80%:]', 'test'])\n",
    "\n",
    "(train_examples, validation_examples, test_examples) = splits\n",
    "\n",
    "num_examples = info.splits['train'].num_examples\n",
    "num_classes = info.features['label'].num_classes"
   ]
  },
  {
   "cell_type": "code",
   "execution_count": 3,
   "metadata": {
    "colab": {},
    "colab_type": "code",
    "id": "veIsubKTCZsN"
   },
   "outputs": [],
   "source": [
    "SIZE = 150 #@param {type:\"slider\", min:64, max:300, step:1}\n",
    "IMAGE_SIZE = (SIZE, SIZE)"
   ]
  },
  {
   "cell_type": "code",
   "execution_count": 4,
   "metadata": {
    "colab": {},
    "colab_type": "code",
    "id": "faajLlErCb1S"
   },
   "outputs": [],
   "source": [
    "def format_image(image, label):\n",
    "    image = tf.image.resize(image, IMAGE_SIZE) / 255.0\n",
    "    return  image, label"
   ]
  },
  {
   "cell_type": "code",
   "execution_count": 5,
   "metadata": {
    "colab": {},
    "colab_type": "code",
    "id": "AVXPuU12Cdka"
   },
   "outputs": [],
   "source": [
    "BATCH_SIZE = 32 #@param {type:\"integer\"}"
   ]
  },
  {
   "cell_type": "code",
   "execution_count": 6,
   "metadata": {
    "colab": {},
    "colab_type": "code",
    "id": "0lHDkFVaCe48"
   },
   "outputs": [],
   "source": [
    "train_batches = train_examples.shuffle(num_examples // 4).map(format_image).batch(BATCH_SIZE).prefetch(1)\n",
    "validation_batches = validation_examples.map(format_image).batch(BATCH_SIZE).prefetch(1)\n",
    "test_batches = test_examples.map(format_image).batch(1)"
   ]
  },
  {
   "cell_type": "code",
   "execution_count": 7,
   "metadata": {
    "colab": {},
    "colab_type": "code",
    "id": "DxsCqEIkCgUt"
   },
   "outputs": [
    {
     "data": {
      "text/plain": [
       "TensorShape([32, 150, 150, 3])"
      ]
     },
     "execution_count": 7,
     "metadata": {},
     "output_type": "execute_result"
    }
   ],
   "source": [
    "for image_batch, label_batch in train_batches.take(1):\n",
    "    pass\n",
    "\n",
    "image_batch.shape"
   ]
  },
  {
   "cell_type": "code",
   "execution_count": 8,
   "metadata": {
    "colab": {},
    "colab_type": "code",
    "id": "iDBpWvHXCh2A"
   },
   "outputs": [],
   "source": [
    "def build_model(dense_units, input_shape=IMAGE_SIZE + (3,)):\n",
    "    model = tf.keras.models.Sequential([\n",
    "        tf.keras.layers.Conv2D(16, (3, 3), activation='relu', input_shape=input_shape),\n",
    "        tf.keras.layers.MaxPooling2D(2, 2),\n",
    "        tf.keras.layers.Conv2D(32, (3, 3), activation='relu'),\n",
    "        tf.keras.layers.MaxPooling2D(2, 2),\n",
    "        tf.keras.layers.Conv2D(64, (3, 3), activation='relu'),\n",
    "        tf.keras.layers.MaxPooling2D(2, 2),\n",
    "        tf.keras.layers.Flatten(),\n",
    "        tf.keras.layers.Dense(dense_units, activation='relu'),\n",
    "        tf.keras.layers.Dense(2, activation='softmax')\n",
    "    ])\n",
    "    return model"
   ]
  },
  {
   "cell_type": "markdown",
   "metadata": {
    "colab_type": "text",
    "id": "0ZKGkjagENSw"
   },
   "source": [
    "## [TensorBoard](https://keras.io/api/callbacks/tensorboard/)\n",
    "\n",
    "Enable visualizations for TensorBoard."
   ]
  },
  {
   "cell_type": "code",
   "execution_count": 9,
   "metadata": {
    "colab": {},
    "colab_type": "code",
    "id": "CeiD2WVEHbex"
   },
   "outputs": [],
   "source": [
    "!rm -rf logs"
   ]
  },
  {
   "cell_type": "code",
   "execution_count": 10,
   "metadata": {
    "colab": {},
    "colab_type": "code",
    "id": "PpLwPLnAEOzv"
   },
   "outputs": [
    {
     "name": "stdout",
     "output_type": "stream",
     "text": [
      "Epoch 1/10\n",
      "26/26 [==============================] - 6s 203ms/step - loss: 0.6791 - accuracy: 0.5526 - val_loss: 0.6760 - val_accuracy: 0.4439\n",
      "Epoch 2/10\n",
      "26/26 [==============================] - 5s 179ms/step - loss: 0.6228 - accuracy: 0.6691 - val_loss: 0.5821 - val_accuracy: 0.8049\n",
      "Epoch 3/10\n",
      "26/26 [==============================] - 5s 179ms/step - loss: 0.5775 - accuracy: 0.7627 - val_loss: 0.5093 - val_accuracy: 0.7854\n",
      "Epoch 4/10\n",
      "26/26 [==============================] - 5s 179ms/step - loss: 0.4989 - accuracy: 0.7843 - val_loss: 0.5265 - val_accuracy: 0.7220\n",
      "Epoch 5/10\n",
      "26/26 [==============================] - 5s 180ms/step - loss: 0.5403 - accuracy: 0.7383 - val_loss: 0.4338 - val_accuracy: 0.8293\n",
      "Epoch 6/10\n",
      "26/26 [==============================] - 5s 179ms/step - loss: 0.4106 - accuracy: 0.8265 - val_loss: 0.3339 - val_accuracy: 0.8585\n",
      "Epoch 7/10\n",
      "26/26 [==============================] - 5s 180ms/step - loss: 0.3541 - accuracy: 0.8528 - val_loss: 0.3320 - val_accuracy: 0.8878\n",
      "Epoch 8/10\n",
      "26/26 [==============================] - 5s 180ms/step - loss: 0.2962 - accuracy: 0.8869 - val_loss: 0.3830 - val_accuracy: 0.7951\n",
      "Epoch 9/10\n",
      "26/26 [==============================] - 5s 175ms/step - loss: 0.2661 - accuracy: 0.9069 - val_loss: 0.1923 - val_accuracy: 0.9512\n",
      "Epoch 10/10\n",
      "26/26 [==============================] - 5s 183ms/step - loss: 0.2009 - accuracy: 0.9342 - val_loss: 0.1644 - val_accuracy: 0.9512\n"
     ]
    },
    {
     "data": {
      "text/plain": [
       "<tensorflow.python.keras.callbacks.History at 0x7fdcd00ea850>"
      ]
     },
     "execution_count": 10,
     "metadata": {},
     "output_type": "execute_result"
    }
   ],
   "source": [
    "model = build_model(dense_units=256)\n",
    "model.compile(\n",
    "    optimizer='sgd',\n",
    "    loss='sparse_categorical_crossentropy', \n",
    "    metrics=['accuracy'])\n",
    "  \n",
    "logdir = os.path.join(\"logs\", datetime.datetime.now().strftime(\"%Y%m%d-%H%M%S\"))\n",
    "tensorboard_callback = tf.keras.callbacks.TensorBoard(logdir)\n",
    "\n",
    "model.fit(train_batches, \n",
    "          epochs=10, \n",
    "          validation_data=validation_batches, \n",
    "          callbacks=[tensorboard_callback])"
   ]
  },
  {
   "cell_type": "code",
   "execution_count": 11,
   "metadata": {
    "colab": {},
    "colab_type": "code",
    "id": "iJunWOjZE0ir"
   },
   "outputs": [
    {
     "data": {
      "text/html": [
       "\n",
       "      <iframe id=\"tensorboard-frame-a2ac5570f1a0ed7d\" width=\"100%\" height=\"800\" frameborder=\"0\">\n",
       "      </iframe>\n",
       "      <script>\n",
       "        (function() {\n",
       "          const frame = document.getElementById(\"tensorboard-frame-a2ac5570f1a0ed7d\");\n",
       "          const url = new URL(\"/\", window.location);\n",
       "          const port = 6006;\n",
       "          if (port) {\n",
       "            url.port = port;\n",
       "          }\n",
       "          frame.src = url;\n",
       "        })();\n",
       "      </script>\n",
       "    "
      ],
      "text/plain": [
       "<IPython.core.display.HTML object>"
      ]
     },
     "metadata": {},
     "output_type": "display_data"
    }
   ],
   "source": [
    "%tensorboard --logdir logs"
   ]
  },
  {
   "cell_type": "markdown",
   "metadata": {
    "colab_type": "text",
    "id": "wv9H4Pc2Mfl7"
   },
   "source": [
    "## [Model Checkpoint](https://keras.io/api/callbacks/model_checkpoint/)\n",
    "\n",
    "Callback to save the Keras model or model weights at some frequency."
   ]
  },
  {
   "cell_type": "code",
   "execution_count": 12,
   "metadata": {
    "colab": {},
    "colab_type": "code",
    "id": "PYV4FJ8iMmDq"
   },
   "outputs": [
    {
     "name": "stdout",
     "output_type": "stream",
     "text": [
      "Epoch 1/5\n",
      "26/26 - 5s - loss: 0.6770 - accuracy: 0.5499 - val_loss: 0.6585 - val_accuracy: 0.7610\n",
      "\n",
      "Epoch 00001: saving model to weights.01-0.66.h5\n",
      "Epoch 2/5\n",
      "26/26 - 5s - loss: 0.6220 - accuracy: 0.7226 - val_loss: 0.6189 - val_accuracy: 0.7073\n",
      "\n",
      "Epoch 00002: saving model to weights.02-0.62.h5\n",
      "Epoch 3/5\n",
      "26/26 - 5s - loss: 0.5600 - accuracy: 0.7482 - val_loss: 0.6137 - val_accuracy: 0.6244\n",
      "\n",
      "Epoch 00003: saving model to weights.03-0.61.h5\n",
      "Epoch 4/5\n",
      "26/26 - 5s - loss: 0.5103 - accuracy: 0.7810 - val_loss: 0.5777 - val_accuracy: 0.6927\n",
      "\n",
      "Epoch 00004: saving model to weights.04-0.58.h5\n",
      "Epoch 5/5\n",
      "26/26 - 5s - loss: 0.4558 - accuracy: 0.7908 - val_loss: 0.4358 - val_accuracy: 0.8293\n",
      "\n",
      "Epoch 00005: saving model to weights.05-0.44.h5\n"
     ]
    },
    {
     "data": {
      "text/plain": [
       "<tensorflow.python.keras.callbacks.History at 0x7fdca867dc90>"
      ]
     },
     "execution_count": 12,
     "metadata": {},
     "output_type": "execute_result"
    }
   ],
   "source": [
    "model = build_model(dense_units=256)\n",
    "model.compile(\n",
    "    optimizer='sgd',\n",
    "    loss='sparse_categorical_crossentropy', \n",
    "    metrics=['accuracy'])\n",
    "  \n",
    "model.fit(train_batches, \n",
    "          epochs=5, \n",
    "          validation_data=validation_batches, \n",
    "          verbose=2,\n",
    "          callbacks=[ModelCheckpoint('weights.{epoch:02d}-{val_loss:.2f}.h5', verbose=1),\n",
    "          ])"
   ]
  },
  {
   "cell_type": "code",
   "execution_count": 13,
   "metadata": {
    "colab": {},
    "colab_type": "code",
    "id": "oGvjQ8IlMmK6"
   },
   "outputs": [
    {
     "name": "stdout",
     "output_type": "stream",
     "text": [
      "26/26 - 5s - loss: 0.6776 - accuracy: 0.5876 - val_loss: 0.6600 - val_accuracy: 0.5463\n",
      "\n",
      "Epoch 00001: saving model to saved_model\n",
      "INFO:tensorflow:Assets written to: saved_model/assets\n"
     ]
    },
    {
     "name": "stderr",
     "output_type": "stream",
     "text": [
      "INFO:tensorflow:Assets written to: saved_model/assets\n"
     ]
    },
    {
     "data": {
      "text/plain": [
       "<tensorflow.python.keras.callbacks.History at 0x7fdca854bb10>"
      ]
     },
     "execution_count": 13,
     "metadata": {},
     "output_type": "execute_result"
    }
   ],
   "source": [
    "model = build_model(dense_units=256)\n",
    "model.compile(\n",
    "    optimizer='sgd',\n",
    "    loss='sparse_categorical_crossentropy', \n",
    "    metrics=['accuracy'])\n",
    "  \n",
    "model.fit(train_batches, \n",
    "          epochs=1, \n",
    "          validation_data=validation_batches, \n",
    "          verbose=2,\n",
    "          callbacks=[ModelCheckpoint('saved_model', verbose=1)\n",
    "          ])"
   ]
  },
  {
   "cell_type": "code",
   "execution_count": 14,
   "metadata": {
    "colab": {},
    "colab_type": "code",
    "id": "Y1ConwoB0EjD"
   },
   "outputs": [
    {
     "name": "stdout",
     "output_type": "stream",
     "text": [
      "Epoch 1/2\n",
      "26/26 - 5s - loss: 0.6712 - accuracy: 0.5949 - val_loss: 0.6484 - val_accuracy: 0.6732\n",
      "\n",
      "Epoch 00001: saving model to model.h5\n",
      "Epoch 2/2\n",
      "26/26 - 5s - loss: 0.6305 - accuracy: 0.7056 - val_loss: 0.6104 - val_accuracy: 0.8195\n",
      "\n",
      "Epoch 00002: saving model to model.h5\n"
     ]
    },
    {
     "data": {
      "text/plain": [
       "<tensorflow.python.keras.callbacks.History at 0x7fdca8421c90>"
      ]
     },
     "execution_count": 14,
     "metadata": {},
     "output_type": "execute_result"
    }
   ],
   "source": [
    "model = build_model(dense_units=256)\n",
    "model.compile(\n",
    "    optimizer='sgd',\n",
    "    loss='sparse_categorical_crossentropy', \n",
    "    metrics=['accuracy'])\n",
    "  \n",
    "model.fit(train_batches, \n",
    "          epochs=2, \n",
    "          validation_data=validation_batches, \n",
    "          verbose=2,\n",
    "          callbacks=[ModelCheckpoint('model.h5', verbose=1)\n",
    "          ])"
   ]
  },
  {
   "cell_type": "markdown",
   "metadata": {
    "colab_type": "text",
    "id": "kptNF0--Lznv"
   },
   "source": [
    "## [Early stopping](https://keras.io/api/callbacks/early_stopping/)\n",
    "\n",
    "Stop training when a monitored metric has stopped improving."
   ]
  },
  {
   "cell_type": "code",
   "execution_count": 15,
   "metadata": {
    "colab": {},
    "colab_type": "code",
    "id": "KJOJTJYdCkdY"
   },
   "outputs": [
    {
     "name": "stdout",
     "output_type": "stream",
     "text": [
      "Epoch 1/50\n",
      "26/26 - 5s - loss: 0.6766 - accuracy: 0.5450 - val_loss: 0.6648 - val_accuracy: 0.5366\n",
      "Epoch 2/50\n",
      "26/26 - 5s - loss: 0.6332 - accuracy: 0.6582 - val_loss: 0.6053 - val_accuracy: 0.6537\n",
      "Epoch 3/50\n",
      "26/26 - 5s - loss: 0.5791 - accuracy: 0.7762 - val_loss: 0.5456 - val_accuracy: 0.7171\n",
      "Epoch 4/50\n",
      "26/26 - 5s - loss: 0.5154 - accuracy: 0.7981 - val_loss: 0.4810 - val_accuracy: 0.7659\n",
      "Epoch 5/50\n",
      "26/26 - 5s - loss: 0.4454 - accuracy: 0.8236 - val_loss: 0.4030 - val_accuracy: 0.8098\n",
      "Epoch 6/50\n",
      "26/26 - 5s - loss: 0.3560 - accuracy: 0.8832 - val_loss: 0.3033 - val_accuracy: 0.9073\n",
      "Epoch 7/50\n",
      "26/26 - 5s - loss: 0.2757 - accuracy: 0.9148 - val_loss: 0.2262 - val_accuracy: 0.9415\n",
      "Epoch 8/50\n",
      "26/26 - 5s - loss: 0.2197 - accuracy: 0.9404 - val_loss: 0.1616 - val_accuracy: 0.9756\n",
      "Epoch 9/50\n",
      "26/26 - 5s - loss: 0.1636 - accuracy: 0.9635 - val_loss: 0.1481 - val_accuracy: 0.9561\n",
      "Epoch 10/50\n",
      "26/26 - 5s - loss: 0.1440 - accuracy: 0.9611 - val_loss: 0.1311 - val_accuracy: 0.9610\n",
      "Epoch 11/50\n",
      "26/26 - 5s - loss: 0.1151 - accuracy: 0.9745 - val_loss: 0.0907 - val_accuracy: 0.9756\n",
      "Epoch 12/50\n",
      "26/26 - 5s - loss: 0.0953 - accuracy: 0.9769 - val_loss: 0.0815 - val_accuracy: 0.9756\n",
      "Epoch 13/50\n",
      "26/26 - 5s - loss: 0.0895 - accuracy: 0.9781 - val_loss: 0.0876 - val_accuracy: 0.9756\n",
      "Epoch 14/50\n",
      "26/26 - 5s - loss: 0.0807 - accuracy: 0.9793 - val_loss: 0.1648 - val_accuracy: 0.9268\n",
      "Restoring model weights from the end of the best epoch.\n",
      "Epoch 00014: early stopping\n"
     ]
    },
    {
     "data": {
      "text/plain": [
       "<tensorflow.python.keras.callbacks.History at 0x7fdca83acd90>"
      ]
     },
     "execution_count": 15,
     "metadata": {},
     "output_type": "execute_result"
    }
   ],
   "source": [
    "model = build_model(dense_units=256)\n",
    "model.compile(\n",
    "    optimizer='sgd',\n",
    "    loss='sparse_categorical_crossentropy', \n",
    "    metrics=['accuracy'])\n",
    "  \n",
    "model.fit(train_batches, \n",
    "          epochs=50, \n",
    "          validation_data=validation_batches, \n",
    "          verbose=2,\n",
    "          callbacks=[EarlyStopping(\n",
    "              patience=3,\n",
    "              min_delta=0.05,\n",
    "              baseline=0.8,\n",
    "              mode='min',\n",
    "              monitor='val_loss',\n",
    "              restore_best_weights=True,\n",
    "              verbose=1)\n",
    "          ])"
   ]
  },
  {
   "cell_type": "markdown",
   "metadata": {
    "colab_type": "text",
    "id": "8mDzWUD4Pqq5"
   },
   "source": [
    "## [CSV Logger](https://keras.io/api/callbacks/csv_logger/)\n",
    "\n",
    "Callback that streams epoch results to a CSV file."
   ]
  },
  {
   "cell_type": "code",
   "execution_count": 16,
   "metadata": {
    "colab": {},
    "colab_type": "code",
    "id": "cffnMpmGPtMh"
   },
   "outputs": [
    {
     "name": "stdout",
     "output_type": "stream",
     "text": [
      "Epoch 1/5\n",
      "26/26 [==============================] - 5s 177ms/step - loss: 0.6655 - accuracy: 0.5962 - val_loss: 0.7176 - val_accuracy: 0.4585\n",
      "Epoch 2/5\n",
      "26/26 [==============================] - 5s 177ms/step - loss: 0.5904 - accuracy: 0.6762 - val_loss: 0.6218 - val_accuracy: 0.6049\n",
      "Epoch 3/5\n",
      "26/26 [==============================] - 5s 179ms/step - loss: 0.5551 - accuracy: 0.7318 - val_loss: 0.4892 - val_accuracy: 0.8293\n",
      "Epoch 4/5\n",
      "26/26 [==============================] - 5s 173ms/step - loss: 0.4867 - accuracy: 0.7700 - val_loss: 0.4554 - val_accuracy: 0.8390\n",
      "Epoch 5/5\n",
      "26/26 [==============================] - 5s 177ms/step - loss: 0.4064 - accuracy: 0.8337 - val_loss: 0.3446 - val_accuracy: 0.8732\n"
     ]
    },
    {
     "data": {
      "text/plain": [
       "<tensorflow.python.keras.callbacks.History at 0x7fdc887d4d50>"
      ]
     },
     "execution_count": 16,
     "metadata": {},
     "output_type": "execute_result"
    }
   ],
   "source": [
    "model = build_model(dense_units=256)\n",
    "model.compile(\n",
    "    optimizer='sgd',\n",
    "    loss='sparse_categorical_crossentropy', \n",
    "    metrics=['accuracy'])\n",
    "  \n",
    "csv_file = 'training.csv'\n",
    "\n",
    "model.fit(train_batches, \n",
    "          epochs=5, \n",
    "          validation_data=validation_batches, \n",
    "          callbacks=[CSVLogger(csv_file)\n",
    "          ])"
   ]
  },
  {
   "cell_type": "code",
   "execution_count": 17,
   "metadata": {
    "colab": {},
    "colab_type": "code",
    "id": "B9tkYi03QV7R"
   },
   "outputs": [
    {
     "data": {
      "text/html": [
       "<div>\n",
       "<style scoped>\n",
       "    .dataframe tbody tr th:only-of-type {\n",
       "        vertical-align: middle;\n",
       "    }\n",
       "\n",
       "    .dataframe tbody tr th {\n",
       "        vertical-align: top;\n",
       "    }\n",
       "\n",
       "    .dataframe thead th {\n",
       "        text-align: right;\n",
       "    }\n",
       "</style>\n",
       "<table border=\"1\" class=\"dataframe\">\n",
       "  <thead>\n",
       "    <tr style=\"text-align: right;\">\n",
       "      <th></th>\n",
       "      <th>epoch</th>\n",
       "      <th>accuracy</th>\n",
       "      <th>loss</th>\n",
       "      <th>val_accuracy</th>\n",
       "      <th>val_loss</th>\n",
       "    </tr>\n",
       "  </thead>\n",
       "  <tbody>\n",
       "    <tr>\n",
       "      <th>0</th>\n",
       "      <td>0</td>\n",
       "      <td>0.616788</td>\n",
       "      <td>0.656803</td>\n",
       "      <td>0.458537</td>\n",
       "      <td>0.717647</td>\n",
       "    </tr>\n",
       "    <tr>\n",
       "      <th>1</th>\n",
       "      <td>1</td>\n",
       "      <td>0.714112</td>\n",
       "      <td>0.578404</td>\n",
       "      <td>0.604878</td>\n",
       "      <td>0.621806</td>\n",
       "    </tr>\n",
       "    <tr>\n",
       "      <th>2</th>\n",
       "      <td>2</td>\n",
       "      <td>0.777372</td>\n",
       "      <td>0.523415</td>\n",
       "      <td>0.829268</td>\n",
       "      <td>0.489194</td>\n",
       "    </tr>\n",
       "    <tr>\n",
       "      <th>3</th>\n",
       "      <td>3</td>\n",
       "      <td>0.787105</td>\n",
       "      <td>0.467757</td>\n",
       "      <td>0.839024</td>\n",
       "      <td>0.455404</td>\n",
       "    </tr>\n",
       "    <tr>\n",
       "      <th>4</th>\n",
       "      <td>4</td>\n",
       "      <td>0.827251</td>\n",
       "      <td>0.408216</td>\n",
       "      <td>0.873171</td>\n",
       "      <td>0.344640</td>\n",
       "    </tr>\n",
       "  </tbody>\n",
       "</table>\n",
       "</div>"
      ],
      "text/plain": [
       "   epoch  accuracy      loss  val_accuracy  val_loss\n",
       "0      0  0.616788  0.656803      0.458537  0.717647\n",
       "1      1  0.714112  0.578404      0.604878  0.621806\n",
       "2      2  0.777372  0.523415      0.829268  0.489194\n",
       "3      3  0.787105  0.467757      0.839024  0.455404\n",
       "4      4  0.827251  0.408216      0.873171  0.344640"
      ]
     },
     "execution_count": 17,
     "metadata": {},
     "output_type": "execute_result"
    }
   ],
   "source": [
    "pd.read_csv(csv_file).head()"
   ]
  },
  {
   "cell_type": "markdown",
   "metadata": {
    "colab_type": "text",
    "id": "Dt9C2Y9fRBKN"
   },
   "source": [
    "## [Learning Rate Scheduler](https://keras.io/api/callbacks/learning_rate_scheduler/)\n",
    "\n",
    "Updates the learning rate during training."
   ]
  },
  {
   "cell_type": "code",
   "execution_count": 18,
   "metadata": {
    "colab": {},
    "colab_type": "code",
    "id": "aJi-xY2VRC03"
   },
   "outputs": [
    {
     "name": "stdout",
     "output_type": "stream",
     "text": [
      "Epoch 1/5\n",
      "\n",
      "Epoch 00001: LearningRateScheduler reducing learning rate to 0.005.\n",
      "26/26 [==============================] - 5s 184ms/step - loss: 0.6811 - accuracy: 0.5141 - val_loss: 0.6458 - val_accuracy: 0.7561\n",
      "Epoch 2/5\n",
      "\n",
      "Epoch 00002: LearningRateScheduler reducing learning rate to 0.0025.\n",
      "26/26 [==============================] - 5s 172ms/step - loss: 0.6389 - accuracy: 0.7032 - val_loss: 0.6309 - val_accuracy: 0.7073\n",
      "Epoch 3/5\n",
      "\n",
      "Epoch 00003: LearningRateScheduler reducing learning rate to 0.00125.\n",
      "26/26 [==============================] - 5s 180ms/step - loss: 0.6176 - accuracy: 0.7187 - val_loss: 0.6342 - val_accuracy: 0.6293\n",
      "Epoch 4/5\n",
      "\n",
      "Epoch 00004: LearningRateScheduler reducing learning rate to 0.000625.\n",
      "26/26 [==============================] - 5s 175ms/step - loss: 0.6049 - accuracy: 0.7215 - val_loss: 0.6197 - val_accuracy: 0.6976\n",
      "Epoch 5/5\n",
      "\n",
      "Epoch 00005: LearningRateScheduler reducing learning rate to 0.0003125.\n",
      "26/26 [==============================] - 5s 176ms/step - loss: 0.6048 - accuracy: 0.7197 - val_loss: 0.6146 - val_accuracy: 0.7122\n"
     ]
    },
    {
     "data": {
      "text/plain": [
       "<tensorflow.python.keras.callbacks.History at 0x7fdc88659250>"
      ]
     },
     "execution_count": 18,
     "metadata": {},
     "output_type": "execute_result"
    }
   ],
   "source": [
    "model = build_model(dense_units=256)\n",
    "model.compile(\n",
    "    optimizer='sgd',\n",
    "    loss='sparse_categorical_crossentropy', \n",
    "    metrics=['accuracy'])\n",
    "  \n",
    "def step_decay(epoch):\n",
    "    initial_lr = 0.01\n",
    "    drop = 0.5\n",
    "    epochs_drop = 1\n",
    "    lr = initial_lr * math.pow(drop, math.floor((1+epoch)/epochs_drop))\n",
    "    return lr\n",
    "\n",
    "model.fit(train_batches, \n",
    "          epochs=5, \n",
    "          validation_data=validation_batches, \n",
    "          callbacks=[LearningRateScheduler(step_decay, verbose=1),\n",
    "                    TensorBoard(log_dir='./log_dir')])"
   ]
  },
  {
   "cell_type": "code",
   "execution_count": 19,
   "metadata": {
    "colab": {},
    "colab_type": "code",
    "id": "M2S4n8nrbV91"
   },
   "outputs": [
    {
     "data": {
      "text/html": [
       "\n",
       "      <iframe id=\"tensorboard-frame-f1ac686c955f83de\" width=\"100%\" height=\"800\" frameborder=\"0\">\n",
       "      </iframe>\n",
       "      <script>\n",
       "        (function() {\n",
       "          const frame = document.getElementById(\"tensorboard-frame-f1ac686c955f83de\");\n",
       "          const url = new URL(\"/\", window.location);\n",
       "          const port = 6007;\n",
       "          if (port) {\n",
       "            url.port = port;\n",
       "          }\n",
       "          frame.src = url;\n",
       "        })();\n",
       "      </script>\n",
       "    "
      ],
      "text/plain": [
       "<IPython.core.display.HTML object>"
      ]
     },
     "metadata": {},
     "output_type": "display_data"
    }
   ],
   "source": [
    "%tensorboard --logdir log_dir"
   ]
  },
  {
   "cell_type": "markdown",
   "metadata": {
    "colab_type": "text",
    "id": "y0wcuQyJE_UK"
   },
   "source": [
    "## [ReduceLROnPlateau](https://keras.io/api/callbacks/reduce_lr_on_plateau/)\n",
    "\n",
    "Reduce learning rate when a metric has stopped improving."
   ]
  },
  {
   "cell_type": "code",
   "execution_count": 20,
   "metadata": {
    "colab": {},
    "colab_type": "code",
    "id": "4naxZ-eCFB27"
   },
   "outputs": [
    {
     "name": "stdout",
     "output_type": "stream",
     "text": [
      "Epoch 1/50\n",
      "26/26 [==============================] - 5s 184ms/step - loss: 0.6785 - accuracy: 0.5543 - val_loss: 0.6448 - val_accuracy: 0.6000\n",
      "Epoch 2/50\n",
      "26/26 [==============================] - 5s 175ms/step - loss: 0.6353 - accuracy: 0.6198 - val_loss: 0.6413 - val_accuracy: 0.5512\n",
      "Epoch 3/50\n",
      "26/26 [==============================] - 5s 175ms/step - loss: 0.5884 - accuracy: 0.6945 - val_loss: 0.5359 - val_accuracy: 0.8098\n",
      "Epoch 4/50\n",
      "26/26 [==============================] - 5s 180ms/step - loss: 0.5430 - accuracy: 0.7955 - val_loss: 0.5239 - val_accuracy: 0.7415\n",
      "Epoch 5/50\n",
      "26/26 [==============================] - 5s 172ms/step - loss: 0.4639 - accuracy: 0.7983 - val_loss: 0.4198 - val_accuracy: 0.8488\n",
      "Epoch 6/50\n",
      "26/26 [==============================] - 5s 179ms/step - loss: 0.3984 - accuracy: 0.8540 - val_loss: 0.3388 - val_accuracy: 0.8927\n",
      "Epoch 7/50\n",
      "26/26 [==============================] - 5s 175ms/step - loss: 0.3701 - accuracy: 0.8472 - val_loss: 0.3131 - val_accuracy: 0.8976\n",
      "Epoch 8/50\n",
      "26/26 [==============================] - 5s 175ms/step - loss: 0.2937 - accuracy: 0.9040 - val_loss: 0.2261 - val_accuracy: 0.9415\n",
      "Epoch 9/50\n",
      "26/26 [==============================] - 5s 179ms/step - loss: 0.2575 - accuracy: 0.9177 - val_loss: 0.2034 - val_accuracy: 0.9610\n",
      "Epoch 10/50\n",
      "26/26 [==============================] - 5s 175ms/step - loss: 0.2051 - accuracy: 0.9390 - val_loss: 0.1718 - val_accuracy: 0.9756\n",
      "Epoch 11/50\n",
      "26/26 [==============================] - 5s 177ms/step - loss: 0.1580 - accuracy: 0.9590 - val_loss: 0.1381 - val_accuracy: 0.9463\n",
      "Epoch 12/50\n",
      "26/26 [==============================] - 5s 175ms/step - loss: 0.1338 - accuracy: 0.9661 - val_loss: 0.1197 - val_accuracy: 0.9659\n",
      "Epoch 13/50\n",
      "26/26 [==============================] - 5s 173ms/step - loss: 0.1086 - accuracy: 0.9763 - val_loss: 0.0999 - val_accuracy: 0.9707\n",
      "Epoch 14/50\n",
      "26/26 [==============================] - 5s 177ms/step - loss: 0.0953 - accuracy: 0.9744 - val_loss: 0.0889 - val_accuracy: 0.9756\n",
      "Epoch 15/50\n",
      "26/26 [==============================] - 5s 176ms/step - loss: 0.0728 - accuracy: 0.9858 - val_loss: 0.0767 - val_accuracy: 0.9756\n",
      "Epoch 16/50\n",
      "26/26 [==============================] - 5s 175ms/step - loss: 0.0713 - accuracy: 0.9796 - val_loss: 0.0707 - val_accuracy: 0.9756\n",
      "Epoch 17/50\n",
      "26/26 [==============================] - 5s 180ms/step - loss: 0.0698 - accuracy: 0.9832 - val_loss: 0.0720 - val_accuracy: 0.9854\n",
      "\n",
      "Epoch 00017: ReduceLROnPlateau reducing learning rate to 0.0019999999552965165.\n",
      "Epoch 18/50\n",
      "26/26 [==============================] - 5s 169ms/step - loss: 0.0532 - accuracy: 0.9900 - val_loss: 0.0586 - val_accuracy: 0.9854\n",
      "Epoch 19/50\n",
      "26/26 [==============================] - 5s 187ms/step - loss: 0.0444 - accuracy: 0.9942 - val_loss: 0.0574 - val_accuracy: 0.9854\n",
      "Epoch 20/50\n",
      "26/26 [==============================] - 5s 175ms/step - loss: 0.0453 - accuracy: 0.9894 - val_loss: 0.0588 - val_accuracy: 0.9756\n",
      "\n",
      "Epoch 00020: ReduceLROnPlateau reducing learning rate to 0.001.\n",
      "Epoch 21/50\n",
      "26/26 [==============================] - 5s 175ms/step - loss: 0.0434 - accuracy: 0.9947 - val_loss: 0.0571 - val_accuracy: 0.9805\n",
      "Epoch 22/50\n",
      "26/26 [==============================] - 5s 179ms/step - loss: 0.0435 - accuracy: 0.9937 - val_loss: 0.0565 - val_accuracy: 0.9854\n",
      "Epoch 23/50\n",
      "26/26 [==============================] - 5s 168ms/step - loss: 0.0428 - accuracy: 0.9944 - val_loss: 0.0564 - val_accuracy: 0.9756\n",
      "Epoch 24/50\n",
      "26/26 [==============================] - 5s 177ms/step - loss: 0.0433 - accuracy: 0.9934 - val_loss: 0.0567 - val_accuracy: 0.9756\n",
      "\n",
      "Epoch 00024: ReduceLROnPlateau reducing learning rate to 0.001.\n",
      "Epoch 25/50\n",
      "26/26 [==============================] - 5s 173ms/step - loss: 0.0444 - accuracy: 0.9921 - val_loss: 0.0569 - val_accuracy: 0.9756\n",
      "\n",
      "Epoch 00025: ReduceLROnPlateau reducing learning rate to 0.001.\n",
      "Epoch 26/50\n",
      "26/26 [==============================] - 5s 171ms/step - loss: 0.0455 - accuracy: 0.9915 - val_loss: 0.0590 - val_accuracy: 0.9756\n",
      "\n",
      "Epoch 00026: ReduceLROnPlateau reducing learning rate to 0.001.\n",
      "Epoch 27/50\n",
      "26/26 [==============================] - 5s 177ms/step - loss: 0.0401 - accuracy: 0.9928 - val_loss: 0.0541 - val_accuracy: 0.9854\n",
      "Epoch 28/50\n",
      "26/26 [==============================] - 5s 171ms/step - loss: 0.0459 - accuracy: 0.9916 - val_loss: 0.0541 - val_accuracy: 0.9756\n",
      "\n",
      "Epoch 00028: ReduceLROnPlateau reducing learning rate to 0.001.\n",
      "Epoch 29/50\n",
      "26/26 [==============================] - 5s 169ms/step - loss: 0.0383 - accuracy: 0.9950 - val_loss: 0.0543 - val_accuracy: 0.9756\n",
      "\n",
      "Epoch 00029: ReduceLROnPlateau reducing learning rate to 0.001.\n",
      "Epoch 30/50\n",
      "26/26 [==============================] - 5s 175ms/step - loss: 0.0448 - accuracy: 0.9916 - val_loss: 0.0548 - val_accuracy: 0.9756\n",
      "\n",
      "Epoch 00030: ReduceLROnPlateau reducing learning rate to 0.001.\n",
      "Epoch 31/50\n",
      "26/26 [==============================] - 5s 171ms/step - loss: 0.0399 - accuracy: 0.9948 - val_loss: 0.0553 - val_accuracy: 0.9756\n",
      "\n",
      "Epoch 00031: ReduceLROnPlateau reducing learning rate to 0.001.\n",
      "Epoch 32/50\n",
      "26/26 [==============================] - 5s 175ms/step - loss: 0.0419 - accuracy: 0.9930 - val_loss: 0.0534 - val_accuracy: 0.9756\n",
      "Epoch 33/50\n",
      "26/26 [==============================] - 5s 175ms/step - loss: 0.0411 - accuracy: 0.9923 - val_loss: 0.0544 - val_accuracy: 0.9756\n",
      "\n",
      "Epoch 00033: ReduceLROnPlateau reducing learning rate to 0.001.\n",
      "Epoch 34/50\n",
      "26/26 [==============================] - 5s 170ms/step - loss: 0.0389 - accuracy: 0.9929 - val_loss: 0.0535 - val_accuracy: 0.9756\n",
      "\n",
      "Epoch 00034: ReduceLROnPlateau reducing learning rate to 0.001.\n",
      "Epoch 35/50\n",
      "26/26 [==============================] - 5s 179ms/step - loss: 0.0366 - accuracy: 0.9949 - val_loss: 0.0526 - val_accuracy: 0.9756\n",
      "Epoch 36/50\n",
      "26/26 [==============================] - 5s 169ms/step - loss: 0.0445 - accuracy: 0.9889 - val_loss: 0.0520 - val_accuracy: 0.9756\n",
      "Epoch 37/50\n",
      "26/26 [==============================] - 5s 177ms/step - loss: 0.0376 - accuracy: 0.9932 - val_loss: 0.0528 - val_accuracy: 0.9756\n",
      "\n",
      "Epoch 00037: ReduceLROnPlateau reducing learning rate to 0.001.\n",
      "Epoch 38/50\n",
      "26/26 [==============================] - 5s 173ms/step - loss: 0.0370 - accuracy: 0.9936 - val_loss: 0.0534 - val_accuracy: 0.9756\n",
      "\n",
      "Epoch 00038: ReduceLROnPlateau reducing learning rate to 0.001.\n",
      "Epoch 39/50\n",
      "26/26 [==============================] - 5s 176ms/step - loss: 0.0345 - accuracy: 0.9944 - val_loss: 0.0509 - val_accuracy: 0.9756\n",
      "Epoch 40/50\n",
      "26/26 [==============================] - 5s 173ms/step - loss: 0.0382 - accuracy: 0.9927 - val_loss: 0.0514 - val_accuracy: 0.9756\n",
      "\n",
      "Epoch 00040: ReduceLROnPlateau reducing learning rate to 0.001.\n",
      "Epoch 41/50\n",
      "26/26 [==============================] - 5s 171ms/step - loss: 0.0412 - accuracy: 0.9891 - val_loss: 0.0503 - val_accuracy: 0.9756\n",
      "Epoch 42/50\n",
      "26/26 [==============================] - 5s 179ms/step - loss: 0.0376 - accuracy: 0.9918 - val_loss: 0.0503 - val_accuracy: 0.9756\n",
      "\n",
      "Epoch 00042: ReduceLROnPlateau reducing learning rate to 0.001.\n",
      "Epoch 43/50\n",
      "26/26 [==============================] - 5s 179ms/step - loss: 0.0324 - accuracy: 0.9939 - val_loss: 0.0495 - val_accuracy: 0.9756\n",
      "Epoch 44/50\n",
      "26/26 [==============================] - 5s 175ms/step - loss: 0.0317 - accuracy: 0.9951 - val_loss: 0.0502 - val_accuracy: 0.9756\n",
      "\n",
      "Epoch 00044: ReduceLROnPlateau reducing learning rate to 0.001.\n",
      "Epoch 45/50\n",
      "26/26 [==============================] - 5s 176ms/step - loss: 0.0395 - accuracy: 0.9893 - val_loss: 0.0504 - val_accuracy: 0.9756\n",
      "\n",
      "Epoch 00045: ReduceLROnPlateau reducing learning rate to 0.001.\n",
      "Epoch 46/50\n",
      "26/26 [==============================] - 5s 171ms/step - loss: 0.0338 - accuracy: 0.9937 - val_loss: 0.0492 - val_accuracy: 0.9756\n",
      "Epoch 47/50\n",
      "26/26 [==============================] - 5s 169ms/step - loss: 0.0320 - accuracy: 0.9942 - val_loss: 0.0496 - val_accuracy: 0.9756\n",
      "\n",
      "Epoch 00047: ReduceLROnPlateau reducing learning rate to 0.001.\n",
      "Epoch 48/50\n",
      "26/26 [==============================] - 5s 180ms/step - loss: 0.0364 - accuracy: 0.9939 - val_loss: 0.0487 - val_accuracy: 0.9756\n",
      "Epoch 49/50\n",
      "26/26 [==============================] - 5s 175ms/step - loss: 0.0324 - accuracy: 0.9941 - val_loss: 0.0482 - val_accuracy: 0.9756\n",
      "Epoch 50/50\n",
      "26/26 [==============================] - 5s 177ms/step - loss: 0.0407 - accuracy: 0.9904 - val_loss: 0.0497 - val_accuracy: 0.9756\n",
      "\n",
      "Epoch 00050: ReduceLROnPlateau reducing learning rate to 0.001.\n"
     ]
    },
    {
     "data": {
      "text/plain": [
       "<tensorflow.python.keras.callbacks.History at 0x7fdc88516950>"
      ]
     },
     "execution_count": 20,
     "metadata": {},
     "output_type": "execute_result"
    }
   ],
   "source": [
    "model = build_model(dense_units=256)\n",
    "model.compile(\n",
    "    optimizer='sgd',\n",
    "    loss='sparse_categorical_crossentropy', \n",
    "    metrics=['accuracy'])\n",
    "  \n",
    "model.fit(train_batches, \n",
    "          epochs=50, \n",
    "          validation_data=validation_batches, \n",
    "          callbacks=[ReduceLROnPlateau(monitor='val_loss', \n",
    "                                       factor=0.2, verbose=1,\n",
    "                                       patience=1, min_lr=0.001),\n",
    "                     TensorBoard(log_dir='./log_dir')])"
   ]
  },
  {
   "cell_type": "code",
   "execution_count": 21,
   "metadata": {
    "colab": {},
    "colab_type": "code",
    "id": "isfTWP4NYudk"
   },
   "outputs": [
    {
     "data": {
      "text/plain": [
       "Reusing TensorBoard on port 6007 (pid 11722), started 0:04:02 ago. (Use '!kill 11722' to kill it.)"
      ]
     },
     "metadata": {},
     "output_type": "display_data"
    },
    {
     "data": {
      "text/html": [
       "\n",
       "      <iframe id=\"tensorboard-frame-3e6b6231bc979d0e\" width=\"100%\" height=\"800\" frameborder=\"0\">\n",
       "      </iframe>\n",
       "      <script>\n",
       "        (function() {\n",
       "          const frame = document.getElementById(\"tensorboard-frame-3e6b6231bc979d0e\");\n",
       "          const url = new URL(\"/\", window.location);\n",
       "          const port = 6007;\n",
       "          if (port) {\n",
       "            url.port = port;\n",
       "          }\n",
       "          frame.src = url;\n",
       "        })();\n",
       "      </script>\n",
       "    "
      ],
      "text/plain": [
       "<IPython.core.display.HTML object>"
      ]
     },
     "metadata": {},
     "output_type": "display_data"
    }
   ],
   "source": [
    "%tensorboard --logdir log_dir"
   ]
  }
 ],
 "metadata": {
  "colab": {
   "collapsed_sections": [],
   "include_colab_link": true,
   "name": "ExploringCallbacks.ipynb",
   "provenance": []
  },
  "kernelspec": {
   "display_name": "Python 3.7",
   "language": "python",
   "name": "python3"
  },
  "language_info": {
   "codemirror_mode": {
    "name": "ipython",
    "version": 3
   },
   "file_extension": ".py",
   "mimetype": "text/x-python",
   "name": "python",
   "nbconvert_exporter": "python",
   "pygments_lexer": "ipython3",
   "version": "3.7.11"
  }
 },
 "nbformat": 4,
 "nbformat_minor": 4
}
